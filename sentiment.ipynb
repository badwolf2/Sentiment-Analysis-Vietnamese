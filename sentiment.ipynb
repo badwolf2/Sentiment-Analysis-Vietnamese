{
 "cells": [
  {
   "cell_type": "code",
   "execution_count": 1,
   "metadata": {},
   "outputs": [],
   "source": [
    "from sklearn.feature_extraction.text import CountVectorizer\n",
    "\n",
    "from sklearn.metrics import accuracy_score\n",
    "from sklearn.model_selection import train_test_split\n",
    "\n",
    "from sklearn.linear_model import LogisticRegression\n",
    "from sklearn.svm import SVC\n",
    "\n",
    "from sklearn.naive_bayes import MultinomialNB, BernoulliNB\n",
    "from sklearn.linear_model import Perceptron"
   ]
  },
  {
   "cell_type": "markdown",
   "metadata": {},
   "source": [
    "# Read data"
   ]
  },
  {
   "cell_type": "code",
   "execution_count": 2,
   "metadata": {},
   "outputs": [],
   "source": [
    "import pandas as pd\n",
    "\n",
    "def readData():\n",
    "    dftrain = pd.read_excel('data/dataTrain.xlsx', sheet_name='dataTrain')\n",
    "    dftest = pd.read_excel('data/dataTest.xlsx', sheet_name='dataTest')\n",
    "    comTrain = dftrain['comment'].values.tolist()\n",
    "    y_train= dftrain['label'].values.tolist()\n",
    "    comTest = dftest['comment'].values.tolist()\n",
    "    y_test = dftest['label'].values.tolist()\n",
    "    return [comTrain, y_train, comTest, y_test]"
   ]
  },
  {
   "cell_type": "code",
   "execution_count": 3,
   "metadata": {},
   "outputs": [],
   "source": [
    "import re\n",
    "import pyvi\n",
    "from pyvi import ViTokenizer \n",
    "\n",
    "def preprocess_reviews(reviews):\n",
    "    REPLACE_NO_SPACE = re.compile(\"[.;:\\',\\\"()\\[\\]]\")#(\"[.;:!\\'?,\\\"()\\[\\]]\")\n",
    "    REPLACE_WITH_SPACE = re.compile(\"(<br\\s*/><br\\s*/>)|(\\-)|(\\/)\")\n",
    "    reviews = [REPLACE_NO_SPACE.sub(\"\", str(line).lower()) for line in reviews]\n",
    "    reviews = [REPLACE_WITH_SPACE.sub(\" \", line) for line in reviews]\n",
    "    reviews = [line.lstrip() for line in reviews]\n",
    "    reviews = [ViTokenizer.tokenize(rev) for rev in reviews]\n",
    "    return reviews\n"
   ]
  },
  {
   "cell_type": "markdown",
   "metadata": {},
   "source": [
    "# Vectorization"
   ]
  },
  {
   "cell_type": "code",
   "execution_count": 4,
   "metadata": {},
   "outputs": [],
   "source": [
    "\n",
    "def vectorizer(comTrain,comTest):\n",
    "    cv = CountVectorizer(binary=True)\n",
    "    cv.fit(comTrain)\n",
    "    X_train = cv.transform(comTrain)\n",
    "    X_test = cv.transform(comTest)\n",
    "    return [X_train,X_test]"
   ]
  },
  {
   "cell_type": "markdown",
   "metadata": {},
   "source": [
    "# Training with models"
   ]
  },
  {
   "cell_type": "code",
   "execution_count": 5,
   "metadata": {},
   "outputs": [],
   "source": [
    "def SVM():\n",
    "    clf = SVC(kernel = 'linear', C = 1e5)\n",
    "    clf.fit(X_train.toarray(), y_train) \n",
    "    w = clf.coef_\n",
    "    b = clf.intercept_\n",
    "    print (\"Final Accuracy SVM: %s\"% accuracy_score(y_test, clf.predict(X_test.toarray())))"
   ]
  },
  {
   "cell_type": "code",
   "execution_count": 6,
   "metadata": {},
   "outputs": [],
   "source": [
    "def multiNB():\n",
    "    clf = MultinomialNB()\n",
    "    clf.fit(X_train, y_train)\n",
    "\n",
    "    y_pred_train = clf.predict(X_train)\n",
    "    y_pred_test = clf.predict(X_test)\n",
    "\n",
    "    acc_test = accuracy_score(y_pred_test,y_test)\n",
    "    acc_train = accuracy_score(y_pred_train,y_train)\n",
    "    print('Final Accuracy multi Naive Bayes: ', acc_test)"
   ]
  },
  {
   "cell_type": "code",
   "execution_count": 7,
   "metadata": {},
   "outputs": [],
   "source": [
    "def perceptron():\n",
    "    clf = Perceptron(tol=1e-3, random_state=0)\n",
    "    clf.fit(X_train, y_train)\n",
    "    acc_train=clf.score(X_train, y_train)\n",
    "    acc_test =clf.score(X_test, y_test)\n",
    "    print('Final Accuracy perceptron: ', acc_test)"
   ]
  },
  {
   "cell_type": "code",
   "execution_count": 8,
   "metadata": {},
   "outputs": [],
   "source": [
    "\n",
    "def logistic():\n",
    "#     for c in [0.01, 0.05, 0.25, 0.5, 1]:\n",
    "#         lr = LogisticRegression(C=c)\n",
    "#         lr.fit(X_trainlog, y_trainlog)\n",
    "#         print (\"Accuracy for C=%s: %s\" % (c, accuracy_score(y_testlog, lr.predict(X_testlog))))\n",
    "\n",
    "    final_model = LogisticRegression(C=0.5)\n",
    "    final_model.fit(X_train, y_train)\n",
    "    print (\"Final Accuracy logistic: %s\"% accuracy_score(y_test, final_model.predict(X_test)))"
   ]
  },
  {
   "cell_type": "code",
   "execution_count": 13,
   "metadata": {},
   "outputs": [],
   "source": [
    "[comTrain, y_train, comTest, y_test] = readData()\n",
    "comTrain = preprocess_reviews(comTrain)\n",
    "comTest = preprocess_reviews(comTest)\n",
    "[X_train,X_test] = vectorizer(comTrain,comTest)\n",
    "\n"
   ]
  },
  {
   "cell_type": "code",
   "execution_count": 14,
   "metadata": {},
   "outputs": [
    {
     "name": "stdout",
     "output_type": "stream",
     "text": [
      "Final Accuracy multi Naive Bayes:  0.8498727735368957\n"
     ]
    },
    {
     "name": "stderr",
     "output_type": "stream",
     "text": [
      "C:\\Users\\Thuy\\Anaconda3\\lib\\site-packages\\sklearn\\linear_model\\logistic.py:433: FutureWarning: Default solver will be changed to 'lbfgs' in 0.22. Specify a solver to silence this warning.\n",
      "  FutureWarning)\n"
     ]
    },
    {
     "name": "stdout",
     "output_type": "stream",
     "text": [
      "Final Accuracy logistic: 0.8829516539440203\n",
      "Final Accuracy perceptron:  0.816793893129771\n",
      "Final Accuracy SVM: 0.8498727735368957\n"
     ]
    }
   ],
   "source": [
    "multiNB()\n",
    "logistic()\n",
    "perceptron()\n",
    "SVM()"
   ]
  },
  {
   "cell_type": "markdown",
   "metadata": {},
   "source": [
    "# Predict a sentence"
   ]
  },
  {
   "cell_type": "code",
   "execution_count": 17,
   "metadata": {},
   "outputs": [
    {
     "name": "stderr",
     "output_type": "stream",
     "text": [
      "C:\\Users\\Thuy\\Anaconda3\\lib\\site-packages\\sklearn\\linear_model\\logistic.py:433: FutureWarning: Default solver will be changed to 'lbfgs' in 0.22. Specify a solver to silence this warning.\n",
      "  FutureWarning)\n"
     ]
    },
    {
     "data": {
      "text/plain": [
       "1"
      ]
     },
     "execution_count": 17,
     "metadata": {},
     "output_type": "execute_result"
    }
   ],
   "source": [
    "def multiNBPre(comment):\n",
    "    clf = MultinomialNB()\n",
    "    clf.fit(X_train, y_train)\n",
    "    y_pred_test = clf.predict(comment)\n",
    "    return y_pred_test[0]\n",
    "\n",
    "def logisticPre(comment):\n",
    "    clf = LogisticRegression(C=0.5)\n",
    "    clf.fit(X_train, y_train)\n",
    "    y_pred_test = clf.predict(comment)\n",
    "    return y_pred_test[0]\n",
    "\n",
    "def predict(comment):\n",
    "    [a,check] = vectorizer(comTrain,[comment])\n",
    "    return logisticPre(check)\n",
    "predict('máy tốt')"
   ]
  },
  {
   "cell_type": "markdown",
   "metadata": {},
   "source": [
    "# Web api"
   ]
  },
  {
   "cell_type": "code",
   "execution_count": 22,
   "metadata": {},
   "outputs": [
    {
     "name": "stdout",
     "output_type": "stream",
     "text": [
      " * Serving Flask app \"__main__\" (lazy loading)\n",
      " * Environment: production\n",
      "   WARNING: This is a development server. Do not use it in a production deployment.\n",
      "   Use a production WSGI server instead.\n",
      " * Debug mode: off\n"
     ]
    },
    {
     "name": "stderr",
     "output_type": "stream",
     "text": [
      " * Running on http://localhost:7500/ (Press CTRL+C to quit)\n",
      "127.0.0.1 - - [09/May/2020 18:00:36] \"GET / HTTP/1.1\" 302 -\n",
      "127.0.0.1 - - [09/May/2020 18:00:36] \"GET /login HTTP/1.1\" 200 -\n",
      "127.0.0.1 - - [09/May/2020 18:00:41] \"POST /login HTTP/1.1\" 302 -\n",
      "127.0.0.1 - - [09/May/2020 18:00:41] \"GET /home HTTP/1.1\" 200 -\n",
      "C:\\Users\\Thuy\\Anaconda3\\lib\\site-packages\\sklearn\\linear_model\\logistic.py:433: FutureWarning: Default solver will be changed to 'lbfgs' in 0.22. Specify a solver to silence this warning.\n",
      "  FutureWarning)\n",
      "127.0.0.1 - - [09/May/2020 18:00:50] \"POST /home HTTP/1.1\" 200 -\n",
      "C:\\Users\\Thuy\\Anaconda3\\lib\\site-packages\\sklearn\\linear_model\\logistic.py:433: FutureWarning: Default solver will be changed to 'lbfgs' in 0.22. Specify a solver to silence this warning.\n",
      "  FutureWarning)\n",
      "127.0.0.1 - - [09/May/2020 18:00:57] \"POST /home HTTP/1.1\" 200 -\n"
     ]
    }
   ],
   "source": [
    "from flask import Flask,url_for,request,redirect,render_template\n",
    "app = Flask(__name__)\n",
    "\n",
    "class User:\n",
    "    def __init__():\n",
    "        pass\n",
    "    def __init__(self, id, username, password):\n",
    "        self.id = id\n",
    "        self.username = username\n",
    "        self.password = password\n",
    "\n",
    "    def __repr__(self):\n",
    "        return f'<User: {self.username}>'\n",
    "\n",
    "users = []\n",
    "users.append(User(id=1, username='admin1', password='000000'))\n",
    "users.append(User(id=2, username='admin2', password='123456'))\n",
    "\n",
    "\n",
    "@app.route('/')\n",
    "def welcome():\n",
    "    return redirect('/login')\n",
    "\n",
    "@app.route('/home',methods=['GET','POST'])\n",
    "def home():\n",
    "    label = -1\n",
    "    err = \"\"\n",
    "    if request.method == 'POST':\n",
    "        label = predict(request.form['comment'])\n",
    "    return render_template('home.html',result = label, error = err)\n",
    "\n",
    "@app.route('/login',methods =['GET','POST'])\n",
    "def login():\n",
    "    error = ''\n",
    "    if request.method =='POST':\n",
    "        username = request.form['username']\n",
    "        password = request.form['password']\n",
    "        error = ' The username and password you entered did not match our records. Please double-check and try again.'\n",
    "        for x in users:\n",
    "            if x.username == username:\n",
    "                if x.password != password:\n",
    "                    error = ' Account is not defined'\n",
    "                    break;\n",
    "                else:\n",
    "                    return redirect(url_for('home'))\n",
    "    return render_template('login.html',error=error)\n",
    "if __name__=='__main__':\n",
    "    app.run(host='localhost', port=7500, debug=False)"
   ]
  },
  {
   "cell_type": "code",
   "execution_count": null,
   "metadata": {},
   "outputs": [],
   "source": []
  }
 ],
 "metadata": {
  "kernelspec": {
   "display_name": "Python 3",
   "language": "python",
   "name": "python3"
  },
  "language_info": {
   "codemirror_mode": {
    "name": "ipython",
    "version": 3
   },
   "file_extension": ".py",
   "mimetype": "text/x-python",
   "name": "python",
   "nbconvert_exporter": "python",
   "pygments_lexer": "ipython3",
   "version": "3.7.1"
  }
 },
 "nbformat": 4,
 "nbformat_minor": 2
}
