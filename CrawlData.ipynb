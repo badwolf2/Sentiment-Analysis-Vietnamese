{
 "cells": [
  {
   "cell_type": "code",
   "execution_count": 1,
   "metadata": {},
   "outputs": [],
   "source": [
    "import requests\n",
    "import re\n",
    "from bs4 import BeautifulSoup\n",
    "from newspaper import Article\n",
    "import urllib.request"
   ]
  },
  {
   "cell_type": "markdown",
   "metadata": {},
   "source": [
    "# Crawl data"
   ]
  },
  {
   "cell_type": "code",
   "execution_count": 2,
   "metadata": {},
   "outputs": [],
   "source": [
    "req = ['https://www.thegioididong.com/dtdd?p=tu-4-7-trieu',\n",
    "       'https://www.thegioididong.com/dtdd?p=tu-7-13-trieu',\n",
    "       'https://www.thegioididong.com/dtdd?p=tren-13-trieu',\n",
    "]\n",
    "def crawlPhoneLinks(req):\n",
    "    phoneLinks = set()\n",
    "    for r in req:\n",
    "        r1 = requests.get(r)\n",
    "        coverpage = r1.content\n",
    "        soup1 = BeautifulSoup(coverpage, 'html.parser')\n",
    "        for a in soup1.find_all('a', href=True):\n",
    "            if re.search('/dtdd/.*', a['href']):\n",
    "                if a.find_all('div', class_='ratingresult'):\n",
    "                    phoneLinks.add(a['href'])\n",
    "        #print(len(phoneLinks))\n",
    "    return phoneLinks\n",
    "phoneLinks = crawlPhoneLinks(req)\n",
    "\n",
    "def crawlRevLink(phoneLinks):\n",
    "    reviewLinks=set()\n",
    "    for link in phoneLinks:\n",
    "        if link.count('https://www.thegioididong.com')==0:\n",
    "            link = 'https://www.thegioididong.com'+link\n",
    "        link = link +'/danh-gia?p='\n",
    "        reviewLinks.add(link)\n",
    "    #print(len(reviewLinks))\n",
    "    return reviewLinks\n",
    "reviewLinks = crawlRevLink(phoneLinks)\n",
    "\n",
    "def crawlRev(reviewLinks):\n",
    "    reviews = []\n",
    "    for link in reviewLinks:\n",
    "        i = 1\n",
    "        while True:\n",
    "            link = link+str(i)\n",
    "            try:\n",
    "                page = urllib.request.urlopen(link)\n",
    "                soup = BeautifulSoup(page, 'html.parser')\n",
    "                new_feeds = soup.find(\n",
    "                    'ul', class_='ratingLst').find_all('li')\n",
    "\n",
    "                article = Article(link)\n",
    "                article.download()\n",
    "                article.parse()\n",
    "                soup = BeautifulSoup(article.html, 'html.parser')\n",
    "                html = soup.findAll(\"div\", {\"class\": \"rc\"})\n",
    "                reviews = reviews + html\n",
    "\n",
    "            except:\n",
    "                break;\n",
    "            i = i+1\n",
    "    return reviews\n",
    "reviews = crawlRev(reviewLinks)"
   ]
  },
  {
   "cell_type": "code",
   "execution_count": 3,
   "metadata": {},
   "outputs": [],
   "source": [
    "comments = []\n",
    "stars = []\n",
    "labels = []\n",
    "for li in reviews:\n",
    "        rev = str(li).split('\\n')\n",
    "        if len(rev)>9:\n",
    "            comment = rev[9].replace('<i>','').replace('</i>','')\n",
    "            if comments.count(comment)==0:\n",
    "                comments.append(comment)\n",
    "                star = str(li).count('txtstar')\n",
    "                stars.append(star)\n",
    "                if star>=3:\n",
    "                    labels.append(1)\n",
    "                else: \n",
    "                    labels.append(0)\n",
    "#print(len(comments))"
   ]
  },
  {
   "cell_type": "markdown",
   "metadata": {},
   "source": [
    "# Removing Noise from the Data"
   ]
  },
  {
   "cell_type": "code",
   "execution_count": 4,
   "metadata": {},
   "outputs": [],
   "source": [
    "import re\n",
    "import pyvi\n",
    "from pyvi import ViTokenizer #For split vietnamese words"
   ]
  },
  {
   "cell_type": "code",
   "execution_count": 5,
   "metadata": {},
   "outputs": [],
   "source": [
    "\n",
    "REPLACE_NO_SPACE = re.compile(\"[.;:\\',\\\"()\\[\\]]\")#(\"[.;:!\\'?,\\\"()\\[\\]]\")\n",
    "REPLACE_WITH_SPACE = re.compile(\"(<br\\s*/><br\\s*/>)|(\\-)|(\\/)\")\n",
    "def preprocess_reviews(reviews):\n",
    "    reviews = [REPLACE_NO_SPACE.sub(\"\", line.lower()) for line in reviews]\n",
    "    reviews = [REPLACE_WITH_SPACE.sub(\" \", line) for line in reviews]\n",
    "    reviews = [line.lstrip() for line in reviews]\n",
    "    reviews = [ViTokenizer.tokenize(rev) for rev in reviews]\n",
    "    return reviews\n",
    "comments_clean = preprocess_reviews(comments)"
   ]
  },
  {
   "cell_type": "markdown",
   "metadata": {},
   "source": [
    "# Write to xlsx"
   ]
  },
  {
   "cell_type": "code",
   "execution_count": 6,
   "metadata": {},
   "outputs": [],
   "source": [
    "import pandas as pd \n",
    "df = pd.DataFrame(list(zip(comments, stars, labels)),columns =[ 'comment', 'stars','label']) "
   ]
  },
  {
   "cell_type": "code",
   "execution_count": 7,
   "metadata": {},
   "outputs": [
    {
     "data": {
      "text/html": [
       "<div>\n",
       "<style scoped>\n",
       "    .dataframe tbody tr th:only-of-type {\n",
       "        vertical-align: middle;\n",
       "    }\n",
       "\n",
       "    .dataframe tbody tr th {\n",
       "        vertical-align: top;\n",
       "    }\n",
       "\n",
       "    .dataframe thead th {\n",
       "        text-align: right;\n",
       "    }\n",
       "</style>\n",
       "<table border=\"1\" class=\"dataframe\">\n",
       "  <thead>\n",
       "    <tr style=\"text-align: right;\">\n",
       "      <th></th>\n",
       "      <th>comment</th>\n",
       "      <th>stars</th>\n",
       "      <th>label</th>\n",
       "    </tr>\n",
       "  </thead>\n",
       "  <tbody>\n",
       "    <tr>\n",
       "      <th>0</th>\n",
       "      <td>Đã dùng được 1.5 tháng, thiết kế đẹp, camera s...</td>\n",
       "      <td>5</td>\n",
       "      <td>1</td>\n",
       "    </tr>\n",
       "    <tr>\n",
       "      <th>1</th>\n",
       "      <td>Sài gần 4 tháng tui thấy cũng ok lắm.  M...</td>\n",
       "      <td>5</td>\n",
       "      <td>1</td>\n",
       "    </tr>\n",
       "    <tr>\n",
       "      <th>2</th>\n",
       "      <td>Có ai bị trưa 12h sạc pin nắng quá máy lên dc ...</td>\n",
       "      <td>4</td>\n",
       "      <td>1</td>\n",
       "    </tr>\n",
       "    <tr>\n",
       "      <th>3</th>\n",
       "      <td>Dây sạc của đt sạc ko vô . Chập chờn và ghi th...</td>\n",
       "      <td>5</td>\n",
       "      <td>1</td>\n",
       "    </tr>\n",
       "    <tr>\n",
       "      <th>4</th>\n",
       "      <td>Điện thoại rất là ok . Chơi game rất là mượt ....</td>\n",
       "      <td>5</td>\n",
       "      <td>1</td>\n",
       "    </tr>\n",
       "  </tbody>\n",
       "</table>\n",
       "</div>"
      ],
      "text/plain": [
       "                                             comment  stars  label\n",
       "0  Đã dùng được 1.5 tháng, thiết kế đẹp, camera s...      5      1\n",
       "1  Sài gần 4 tháng tui thấy cũng ok lắm.  M...      5      1\n",
       "2  Có ai bị trưa 12h sạc pin nắng quá máy lên dc ...      4      1\n",
       "3  Dây sạc của đt sạc ko vô . Chập chờn và ghi th...      5      1\n",
       "4  Điện thoại rất là ok . Chơi game rất là mượt ....      5      1"
      ]
     },
     "execution_count": 7,
     "metadata": {},
     "output_type": "execute_result"
    }
   ],
   "source": [
    "df[0:5]"
   ]
  },
  {
   "cell_type": "code",
   "execution_count": 15,
   "metadata": {},
   "outputs": [],
   "source": [
    "df = df.sample(frac=1).reset_index(drop=True)"
   ]
  },
  {
   "cell_type": "code",
   "execution_count": 16,
   "metadata": {},
   "outputs": [],
   "source": [
    "dftrain = df.head(int(len(df)*0.8))"
   ]
  },
  {
   "cell_type": "code",
   "execution_count": 17,
   "metadata": {},
   "outputs": [],
   "source": [
    "dftest = df.tail(len(df)-len(dftrain))"
   ]
  },
  {
   "cell_type": "code",
   "execution_count": 18,
   "metadata": {},
   "outputs": [],
   "source": [
    "dftrain.to_excel('dataTrain.xlsx', sheet_name='dataTrain',startrow=0, startcol=0)\n",
    "dftest.to_excel('dataTest.xlsx', sheet_name='dataTest',startrow=0, startcol=0)\n",
    "df.to_excel('data.xlsx', sheet_name='data',startrow=0, startcol=0)"
   ]
  },
  {
   "cell_type": "code",
   "execution_count": null,
   "metadata": {},
   "outputs": [],
   "source": []
  }
 ],
 "metadata": {
  "kernelspec": {
   "display_name": "Python 3",
   "language": "python",
   "name": "python3"
  },
  "language_info": {
   "codemirror_mode": {
    "name": "ipython",
    "version": 3
   },
   "file_extension": ".py",
   "mimetype": "text/x-python",
   "name": "python",
   "nbconvert_exporter": "python",
   "pygments_lexer": "ipython3",
   "version": "3.7.1"
  }
 },
 "nbformat": 4,
 "nbformat_minor": 2
}
