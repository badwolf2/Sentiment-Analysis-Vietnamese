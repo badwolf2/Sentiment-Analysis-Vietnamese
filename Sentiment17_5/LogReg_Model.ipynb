{
 "cells": [
  {
   "cell_type": "code",
   "execution_count": 1,
   "metadata": {},
   "outputs": [],
   "source": [
    "import numpy as np"
   ]
  },
  {
   "cell_type": "code",
   "execution_count": 2,
   "metadata": {},
   "outputs": [],
   "source": [
    "# calculate value of sigmoid of a variation\n",
    "def sigmoid(z):\n",
    "    return 1/(1+np.exp(-z))"
   ]
  },
  {
   "cell_type": "code",
   "execution_count": 3,
   "metadata": {},
   "outputs": [],
   "source": [
    "# calculate value of sigmoid of a linear z=X.w\n",
    "def prob(w,X):\n",
    "    return sigmoid(X.dot(w))"
   ]
  },
  {
   "cell_type": "code",
   "execution_count": 4,
   "metadata": {},
   "outputs": [],
   "source": [
    "# loss function\n",
    "def loss(w, X, y, lam):\n",
    "    z = prob(w,X)\n",
    "    return -np.mean(y*np.log(z) + (1-y)*np.log(1-z) + 0.5*lam/X.shape[0]*np.sum(w*w))"
   ]
  },
  {
   "cell_type": "code",
   "execution_count": 5,
   "metadata": {},
   "outputs": [],
   "source": [
    "# training function with regulation norm l1\n",
    "def logistic_regression(w_init, X, y, lam =0.001, lr=0.1, nEpoches=2000):\n",
    "    N, d= X.shape\n",
    "    print(N)\n",
    "    w = w_old = w_init\n",
    "    loss_hist =[loss(w_init, X, y, lam)]\n",
    "    ep = 0\n",
    "    while ep < nEpoches:\n",
    "        ep += 1;\n",
    "        mix_ids = np.random.permutation(N)\n",
    "        for i in mix_ids:\n",
    "            xi= X[i]\n",
    "            yi = y[i]\n",
    "            zi = sigmoid(xi.dot(w))\n",
    "            w = w -lr*((zi-yi)*xi+lam*w)\n",
    "        loss_hist.append(loss(w, X, y, lam))\n",
    "        if np.linalg.norm(w - w_old)/d <1e-6:\n",
    "            break\n",
    "        w_old = w\n",
    "    return w, loss_hist"
   ]
  },
  {
   "cell_type": "code",
   "execution_count": 6,
   "metadata": {},
   "outputs": [],
   "source": [
    "#classify with X is a matrix (N,D),  is the number of samples, D is the number of feature\n",
    "def predict(w, X, threshold =0.5):\n",
    "    res = np.zeros(X.shape[0])\n",
    "    res[np.where(prob(w,X)> threshold)[0]]=1\n",
    "    return res"
   ]
  },
  {
   "cell_type": "code",
   "execution_count": 7,
   "metadata": {},
   "outputs": [],
   "source": [
    "#accurracy of Model with w parameter\n",
    "def accurracy(w,X, y):\n",
    "    y_predict = predict(w,X)\n",
    "    N=X.shape[0]\n",
    "    count=0\n",
    "    for m in range(N):\n",
    "        if (y_predict[m] == y[m]):\n",
    "            count+=1;\n",
    "    return count/N"
   ]
  },
  {
   "cell_type": "code",
   "execution_count": 9,
   "metadata": {},
   "outputs": [
    {
     "name": "stdout",
     "output_type": "stream",
     "text": [
      "len of dict folder 1: 1413\n",
      "1613\n"
     ]
    },
    {
     "name": "stderr",
     "output_type": "stream",
     "text": [
      "C:\\Users\\Thuy\\Anaconda3\\lib\\site-packages\\ipykernel_launcher.py:4: RuntimeWarning: divide by zero encountered in log\n",
      "  after removing the cwd from sys.path.\n",
      "C:\\Users\\Thuy\\Anaconda3\\lib\\site-packages\\ipykernel_launcher.py:4: RuntimeWarning: invalid value encountered in multiply\n",
      "  after removing the cwd from sys.path.\n"
     ]
    },
    {
     "name": "stdout",
     "output_type": "stream",
     "text": [
      "accurracy_test of folder 1:  0.8287841191066998\n",
      "accurracy_train of folder 1:  0.9938003719776813\n",
      "\n",
      "len of dict folder 2: 1418\n",
      "1613\n",
      "accurracy_test of folder 2:  0.7990074441687345\n",
      "accurracy_train of folder 2:  0.9938003719776813\n",
      "\n",
      "len of dict folder 3: 1373\n",
      "1613\n",
      "accurracy_test of folder 3:  0.7816377171215881\n",
      "accurracy_train of folder 3:  0.9938003719776813\n",
      "\n",
      "len of dict folder 4: 1430\n",
      "1613\n",
      "accurracy_test of folder 4:  0.8287841191066998\n",
      "accurracy_train of folder 4:  0.9925604463732176\n",
      "\n",
      "len of dict folder 5: 1401\n",
      "1613\n",
      "accurracy_test of folder 5:  0.7965260545905707\n",
      "accurracy_train of folder 5:  0.9944203347799132\n",
      "\n",
      "average accurracy_train :  0.993676379417235\n",
      "average accurracy_test :  0.8069478908188585\n"
     ]
    }
   ],
   "source": [
    "sum_acc_test = 0\n",
    "aver_acc_test = 0\n",
    "sum_acc_train = 0\n",
    "aver_acc_train = 0\n",
    "for i in range(1, 6):\n",
    "    A = np.loadtxt('TxtBinaryData/train{}.txt'.format(i))\n",
    "    X_train = np.array(A[:, 1: ])\n",
    "    print('len of dict folder {}:'.format(i), X_train.shape[1])\n",
    "    y_train = np.array(A[:, 0])\n",
    "    T = np.loadtxt('TxtBinaryData/test{}.txt'.format(i))\n",
    "    X_test=np.array(T[:, 1: ])\n",
    "    y_test=np.array(T[:, 0])\n",
    "    w_init = np.random.randn(X_train.shape[1])\n",
    "    lam =0.0001\n",
    "   \n",
    "\n",
    "    w, loss_hist=logistic_regression(w_init, X_train, y_train, lam, lr =0.05, nEpoches = 1000)\n",
    "    acc_test=accurracy(w,X_test, y_test)\n",
    "    acc_train = accurracy(w,X_train, y_train)\n",
    "    sum_acc_test = sum_acc_test + acc_test\n",
    "    sum_acc_train = sum_acc_train + acc_train\n",
    "    print('accurracy_test of folder {}: '.format(i), acc_test)\n",
    "    print('accurracy_train of folder {}: '.format(i), acc_train)\n",
    "    print()\n",
    "aver_acc_train = sum_acc_train/5\n",
    "aver_acc_test = sum_acc_test/5\n",
    "print('average accurracy_train : ', aver_acc_train)\n",
    "print('average accurracy_test : ', aver_acc_test)"
   ]
  },
  {
   "cell_type": "code",
   "execution_count": null,
   "metadata": {},
   "outputs": [],
   "source": []
  },
  {
   "cell_type": "code",
   "execution_count": null,
   "metadata": {},
   "outputs": [],
   "source": []
  }
 ],
 "metadata": {
  "kernelspec": {
   "display_name": "Python 3",
   "language": "python",
   "name": "python3"
  },
  "language_info": {
   "codemirror_mode": {
    "name": "ipython",
    "version": 3
   },
   "file_extension": ".py",
   "mimetype": "text/x-python",
   "name": "python",
   "nbconvert_exporter": "python",
   "pygments_lexer": "ipython3",
   "version": "3.7.1"
  }
 },
 "nbformat": 4,
 "nbformat_minor": 2
}
