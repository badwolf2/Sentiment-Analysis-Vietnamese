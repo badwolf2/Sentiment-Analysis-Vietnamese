{
 "cells": [
  {
   "cell_type": "code",
   "execution_count": 1,
   "metadata": {},
   "outputs": [],
   "source": [
    "import requests\n",
    "import re\n",
    "from bs4 import BeautifulSoup\n",
    "from newspaper import Article\n",
    "import urllib.request"
   ]
  },
  {
   "cell_type": "markdown",
   "metadata": {},
   "source": [
    "# Crawl data"
   ]
  },
  {
   "cell_type": "code",
   "execution_count": 2,
   "metadata": {},
   "outputs": [],
   "source": [
    "req = ['https://www.thegioididong.com/dtdd?p=tu-4-7-trieu',\n",
    "       'https://www.thegioididong.com/dtdd?p=tu-7-13-trieu',\n",
    "       'https://www.thegioididong.com/dtdd?p=tren-13-trieu',\n",
    "]\n",
    "def crawlPhoneLinks(req):\n",
    "    phoneLinks = set()\n",
    "    for r in req:\n",
    "        r1 = requests.get(r)\n",
    "        coverpage = r1.content\n",
    "        soup1 = BeautifulSoup(coverpage, 'html.parser')\n",
    "        for a in soup1.find_all('a', href=True):\n",
    "            if re.search('/dtdd/.*', a['href']):\n",
    "                if a.find_all('div', class_='ratingresult'):\n",
    "                    phoneLinks.add(a['href'])\n",
    "        #print(len(phoneLinks))\n",
    "    return phoneLinks\n",
    "phoneLinks = crawlPhoneLinks(req)\n",
    "\n",
    "def crawlRevLink(phoneLinks):\n",
    "    reviewLinks=set()\n",
    "    for link in phoneLinks:\n",
    "        if link.count('https://www.thegioididong.com')==0:\n",
    "            link = 'https://www.thegioididong.com'+link\n",
    "        link = link +'/danh-gia?p='\n",
    "        reviewLinks.add(link)\n",
    "    #print(len(reviewLinks))\n",
    "    return reviewLinks\n",
    "reviewLinks = crawlRevLink(phoneLinks)\n",
    "\n",
    "def crawlRev(reviewLinks):\n",
    "    reviews = []\n",
    "    for link in reviewLinks:\n",
    "        i = 1\n",
    "        while True:\n",
    "            link = link+str(i)\n",
    "            try:\n",
    "                page = urllib.request.urlopen(link)\n",
    "                soup = BeautifulSoup(page, 'html.parser')\n",
    "                new_feeds = soup.find(\n",
    "                    'ul', class_='ratingLst').find_all('li')\n",
    "\n",
    "                article = Article(link)\n",
    "                article.download()\n",
    "                article.parse()\n",
    "                soup = BeautifulSoup(article.html, 'html.parser')\n",
    "                html = soup.findAll(\"div\", {\"class\": \"rc\"})\n",
    "                reviews = reviews + html\n",
    "\n",
    "            except:\n",
    "                break;\n",
    "            i = i+1\n",
    "    return reviews\n",
    "reviews = crawlRev(reviewLinks)"
   ]
  },
  {
   "cell_type": "code",
   "execution_count": 3,
   "metadata": {},
   "outputs": [],
   "source": [
    "comments = []\n",
    "stars = []\n",
    "labels = []\n",
    "for li in reviews:\n",
    "        rev = str(li).split('\\n')\n",
    "        if len(rev)>9:\n",
    "            comment = rev[9].replace('<i>','').replace('</i>','')\n",
    "            if comments.count(comment)==0:\n",
    "                comments.append(comment)\n",
    "                star = str(li).count('txtstar')\n",
    "                stars.append(star)\n",
    "                if star>=3:\n",
    "                    labels.append(1)\n",
    "                else: \n",
    "                    labels.append(0)\n",
    "#print(len(comments))"
   ]
  },
  {
   "cell_type": "markdown",
   "metadata": {},
   "source": [
    "# Removing Noise from the Data"
   ]
  },
  {
   "cell_type": "code",
   "execution_count": 4,
   "metadata": {},
   "outputs": [],
   "source": [
    "import re\n",
    "import pyvi\n",
    "from pyvi import ViTokenizer #For split vietnamese words"
   ]
  },
  {
   "cell_type": "code",
   "execution_count": 5,
   "metadata": {},
   "outputs": [],
   "source": [
    "\n",
    "REPLACE_NO_SPACE = re.compile(\"[.;:\\',\\\"()\\[\\]][.;:!\\'?,\\\"()\\[\\]]\")\n",
    "REPLACE_WITH_SPACE = re.compile(\"(<br\\s*/><br\\s*/>)|(\\-)|(\\/)\")\n",
    "def preprocess_reviews(reviews):\n",
    "    reviews = [REPLACE_NO_SPACE.sub(\"\", line.lower()) for line in reviews]\n",
    "    reviews = [REPLACE_WITH_SPACE.sub(\" \", line) for line in reviews]\n",
    "    reviews = [line.lstrip() for line in reviews]\n",
    "    reviews = [ViTokenizer.tokenize(rev) for rev in reviews]\n",
    "    return reviews\n",
    "comments_clean = preprocess_reviews(comments)"
   ]
  },
  {
   "cell_type": "markdown",
   "metadata": {},
   "source": [
    "# Write to xlsx"
   ]
  },
  {
   "cell_type": "code",
   "execution_count": 6,
   "metadata": {},
   "outputs": [],
   "source": [
    "import pandas as pd \n",
    "df = pd.DataFrame(list(zip(comments, stars, labels)),columns =[ 'comment', 'stars','label']) "
   ]
  },
  {
   "cell_type": "code",
   "execution_count": 7,
   "metadata": {},
   "outputs": [
    {
     "data": {
      "text/html": [
       "<div>\n",
       "<style scoped>\n",
       "    .dataframe tbody tr th:only-of-type {\n",
       "        vertical-align: middle;\n",
       "    }\n",
       "\n",
       "    .dataframe tbody tr th {\n",
       "        vertical-align: top;\n",
       "    }\n",
       "\n",
       "    .dataframe thead th {\n",
       "        text-align: right;\n",
       "    }\n",
       "</style>\n",
       "<table border=\"1\" class=\"dataframe\">\n",
       "  <thead>\n",
       "    <tr style=\"text-align: right;\">\n",
       "      <th></th>\n",
       "      <th>comment</th>\n",
       "      <th>stars</th>\n",
       "      <th>label</th>\n",
       "    </tr>\n",
       "  </thead>\n",
       "  <tbody>\n",
       "    <tr>\n",
       "      <th>0</th>\n",
       "      <td>Các cao nhân cho em hỏi sao mà cái con máy của...</td>\n",
       "      <td>4</td>\n",
       "      <td>1</td>\n",
       "    </tr>\n",
       "    <tr>\n",
       "      <th>1</th>\n",
       "      <td>Mọi người dùng s20+ cho em hỏi với. khi mở vid...</td>\n",
       "      <td>3</td>\n",
       "      <td>1</td>\n",
       "    </tr>\n",
       "    <tr>\n",
       "      <th>2</th>\n",
       "      <td>Máy ngon cầm pin trâu chơi liên quân 10 tiếng ...</td>\n",
       "      <td>5</td>\n",
       "      <td>1</td>\n",
       "    </tr>\n",
       "    <tr>\n",
       "      <th>3</th>\n",
       "      <td>sài messenger bị giật giật.mong phan hoi từ nh...</td>\n",
       "      <td>1</td>\n",
       "      <td>0</td>\n",
       "    </tr>\n",
       "    <tr>\n",
       "      <th>4</th>\n",
       "      <td>Máy ổn, xài tốt mọi thứ, có 1 quả pin là hơi t...</td>\n",
       "      <td>5</td>\n",
       "      <td>1</td>\n",
       "    </tr>\n",
       "    <tr>\n",
       "      <th>5</th>\n",
       "      <td>Vừa mua về tes thử thấy ok .loa to ,  Còn dùng...</td>\n",
       "      <td>4</td>\n",
       "      <td>1</td>\n",
       "    </tr>\n",
       "    <tr>\n",
       "      <th>6</th>\n",
       "      <td>Mình mua về để quay video làm youtube quá tuyệ...</td>\n",
       "      <td>5</td>\n",
       "      <td>1</td>\n",
       "    </tr>\n",
       "    <tr>\n",
       "      <th>7</th>\n",
       "      <td>Máy sài mượt, chụp đêm ảnh thu sáng rất tốt. T...</td>\n",
       "      <td>5</td>\n",
       "      <td>1</td>\n",
       "    </tr>\n",
       "    <tr>\n",
       "      <th>8</th>\n",
       "      <td>Hôm nay mình đến lấy s20+ nhìn chung màn hình ...</td>\n",
       "      <td>5</td>\n",
       "      <td>1</td>\n",
       "    </tr>\n",
       "    <tr>\n",
       "      <th>9</th>\n",
       "      <td>Mua máy được 2 tháng, ko hài lòng 1 số điểm sau:</td>\n",
       "      <td>3</td>\n",
       "      <td>1</td>\n",
       "    </tr>\n",
       "  </tbody>\n",
       "</table>\n",
       "</div>"
      ],
      "text/plain": [
       "                                             comment  stars  label\n",
       "0  Các cao nhân cho em hỏi sao mà cái con máy của...      4      1\n",
       "1  Mọi người dùng s20+ cho em hỏi với. khi mở vid...      3      1\n",
       "2  Máy ngon cầm pin trâu chơi liên quân 10 tiếng ...      5      1\n",
       "3  sài messenger bị giật giật.mong phan hoi từ nh...      1      0\n",
       "4  Máy ổn, xài tốt mọi thứ, có 1 quả pin là hơi t...      5      1\n",
       "5  Vừa mua về tes thử thấy ok .loa to ,  Còn dùng...      4      1\n",
       "6  Mình mua về để quay video làm youtube quá tuyệ...      5      1\n",
       "7  Máy sài mượt, chụp đêm ảnh thu sáng rất tốt. T...      5      1\n",
       "8  Hôm nay mình đến lấy s20+ nhìn chung màn hình ...      5      1\n",
       "9   Mua máy được 2 tháng, ko hài lòng 1 số điểm sau:      3      1"
      ]
     },
     "execution_count": 7,
     "metadata": {},
     "output_type": "execute_result"
    }
   ],
   "source": [
    "df[0:10]"
   ]
  },
  {
   "cell_type": "code",
   "execution_count": 8,
   "metadata": {},
   "outputs": [
    {
     "data": {
      "text/html": [
       "<div>\n",
       "<style scoped>\n",
       "    .dataframe tbody tr th:only-of-type {\n",
       "        vertical-align: middle;\n",
       "    }\n",
       "\n",
       "    .dataframe tbody tr th {\n",
       "        vertical-align: top;\n",
       "    }\n",
       "\n",
       "    .dataframe thead th {\n",
       "        text-align: right;\n",
       "    }\n",
       "</style>\n",
       "<table border=\"1\" class=\"dataframe\">\n",
       "  <thead>\n",
       "    <tr style=\"text-align: right;\">\n",
       "      <th></th>\n",
       "      <th>comment</th>\n",
       "      <th>stars</th>\n",
       "      <th>label</th>\n",
       "    </tr>\n",
       "  </thead>\n",
       "  <tbody>\n",
       "    <tr>\n",
       "      <th>0</th>\n",
       "      <td>Máy bắt wifi, 4G quá kém, thường xuyên bị rớt ...</td>\n",
       "      <td>2</td>\n",
       "      <td>0</td>\n",
       "    </tr>\n",
       "    <tr>\n",
       "      <th>1</th>\n",
       "      <td>Để làm ra một chiếc điện thoại hoàn hảo không ...</td>\n",
       "      <td>5</td>\n",
       "      <td>1</td>\n",
       "    </tr>\n",
       "    <tr>\n",
       "      <th>2</th>\n",
       "      <td>Vừa mua xong , máy ngon lành . Dùng rất thích ...</td>\n",
       "      <td>5</td>\n",
       "      <td>1</td>\n",
       "    </tr>\n",
       "    <tr>\n",
       "      <th>3</th>\n",
       "      <td>Ổn với tầm giá 5 triệu 500 ngàn. Nếu giá 6 tri...</td>\n",
       "      <td>5</td>\n",
       "      <td>1</td>\n",
       "    </tr>\n",
       "    <tr>\n",
       "      <th>4</th>\n",
       "      <td>Sản phẩm ở mức tiền như vậy là dùng đc</td>\n",
       "      <td>3</td>\n",
       "      <td>1</td>\n",
       "    </tr>\n",
       "  </tbody>\n",
       "</table>\n",
       "</div>"
      ],
      "text/plain": [
       "                                             comment  stars  label\n",
       "0  Máy bắt wifi, 4G quá kém, thường xuyên bị rớt ...      2      0\n",
       "1  Để làm ra một chiếc điện thoại hoàn hảo không ...      5      1\n",
       "2  Vừa mua xong , máy ngon lành . Dùng rất thích ...      5      1\n",
       "3  Ổn với tầm giá 5 triệu 500 ngàn. Nếu giá 6 tri...      5      1\n",
       "4             Sản phẩm ở mức tiền như vậy là dùng đc      3      1"
      ]
     },
     "execution_count": 8,
     "metadata": {},
     "output_type": "execute_result"
    }
   ],
   "source": [
    "df = df.sample(frac=1).reset_index(drop=True)#shuffle data\n",
    "dftrain = df.head(int(len(df)*0.8))\n",
    "dftest = df.tail(len(df)-len(dftrain))\n",
    "dftrain[:5]"
   ]
  },
  {
   "cell_type": "code",
   "execution_count": 9,
   "metadata": {},
   "outputs": [],
   "source": [
    "dftrain.to_excel('XLSXData/dataTrain.xlsx', sheet_name='dataTrain',startrow=0, startcol=0)\n",
    "dftest.to_excel('XLSXData/dataTest.xlsx', sheet_name='dataTest',startrow=0, startcol=0)\n",
    "df.to_excel('XLSXData/data.xlsx', sheet_name='data',startrow=0, startcol=0)"
   ]
  },
  {
   "cell_type": "code",
   "execution_count": null,
   "metadata": {},
   "outputs": [],
   "source": []
  }
 ],
 "metadata": {
  "kernelspec": {
   "display_name": "Python 3",
   "language": "python",
   "name": "python3"
  },
  "language_info": {
   "codemirror_mode": {
    "name": "ipython",
    "version": 3
   },
   "file_extension": ".py",
   "mimetype": "text/x-python",
   "name": "python",
   "nbconvert_exporter": "python",
   "pygments_lexer": "ipython3",
   "version": "3.7.1"
  }
 },
 "nbformat": 4,
 "nbformat_minor": 2
}
