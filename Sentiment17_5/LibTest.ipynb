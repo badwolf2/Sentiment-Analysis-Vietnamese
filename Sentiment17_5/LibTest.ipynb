{
 "cells": [
  {
   "cell_type": "code",
   "execution_count": 19,
   "metadata": {},
   "outputs": [],
   "source": [
    "import numpy as np"
   ]
  },
  {
   "cell_type": "code",
   "execution_count": 20,
   "metadata": {},
   "outputs": [],
   "source": [
    "def train(clf):\n",
    "    sum_acc_test = 0\n",
    "    aver_acc_test = 0\n",
    "    sum_acc_train = 0\n",
    "    aver_acc_train = 0\n",
    "    for i in range(1, 6):\n",
    "        A = np.loadtxt('TxtBinaryData/train{}.txt'.format(i))\n",
    "        X_train = np.array(A[:, 1: ])\n",
    "        #print('len of dict folder {}:'.format(i), X_train.shape[1])\n",
    "        y_train = np.array(A[:, 0])\n",
    "        T = np.loadtxt('TxtBinaryData/test{}.txt'.format(i))\n",
    "        X_test=np.array(T[:, 1: ])\n",
    "        y_test=np.array(T[:, 0])\n",
    "\n",
    "        \n",
    "        clf.fit(X_train, y_train)  \n",
    "        acc_train=clf.score(X_train, y_train)\n",
    "        acc_test =clf.score(X_test, y_test)\n",
    "        \n",
    "        sum_acc_test = sum_acc_test + acc_test\n",
    "        sum_acc_train = sum_acc_train + acc_train\n",
    "        #print('accurracy_test of folder {}: '.format(i), acc_test)\n",
    "        #print('accurracy_train of folder {}: '.format(i), acc_train)\n",
    "    aver_acc_train = sum_acc_train/5\n",
    "    aver_acc_test = sum_acc_test/5\n",
    "    print('average accurracy_train : ', aver_acc_train)\n",
    "    print('average accurracy_test : ', aver_acc_test)"
   ]
  },
  {
   "cell_type": "code",
   "execution_count": null,
   "metadata": {},
   "outputs": [],
   "source": []
  },
  {
   "cell_type": "code",
   "execution_count": null,
   "metadata": {},
   "outputs": [],
   "source": []
  },
  {
   "cell_type": "markdown",
   "metadata": {},
   "source": [
    "# Logistic regrestion"
   ]
  },
  {
   "cell_type": "code",
   "execution_count": 21,
   "metadata": {},
   "outputs": [
    {
     "name": "stderr",
     "output_type": "stream",
     "text": [
      "C:\\Users\\Thuy\\Anaconda3\\lib\\site-packages\\sklearn\\linear_model\\logistic.py:433: FutureWarning: Default solver will be changed to 'lbfgs' in 0.22. Specify a solver to silence this warning.\n",
      "  FutureWarning)\n",
      "C:\\Users\\Thuy\\Anaconda3\\lib\\site-packages\\sklearn\\linear_model\\logistic.py:433: FutureWarning: Default solver will be changed to 'lbfgs' in 0.22. Specify a solver to silence this warning.\n",
      "  FutureWarning)\n",
      "C:\\Users\\Thuy\\Anaconda3\\lib\\site-packages\\sklearn\\linear_model\\logistic.py:433: FutureWarning: Default solver will be changed to 'lbfgs' in 0.22. Specify a solver to silence this warning.\n",
      "  FutureWarning)\n",
      "C:\\Users\\Thuy\\Anaconda3\\lib\\site-packages\\sklearn\\linear_model\\logistic.py:433: FutureWarning: Default solver will be changed to 'lbfgs' in 0.22. Specify a solver to silence this warning.\n",
      "  FutureWarning)\n"
     ]
    },
    {
     "name": "stdout",
     "output_type": "stream",
     "text": [
      "average accurracy_train :  0.9512709237445754\n",
      "average accurracy_test :  0.8297766749379653\n"
     ]
    },
    {
     "name": "stderr",
     "output_type": "stream",
     "text": [
      "C:\\Users\\Thuy\\Anaconda3\\lib\\site-packages\\sklearn\\linear_model\\logistic.py:433: FutureWarning: Default solver will be changed to 'lbfgs' in 0.22. Specify a solver to silence this warning.\n",
      "  FutureWarning)\n"
     ]
    }
   ],
   "source": [
    "from sklearn.linear_model import LogisticRegression\n",
    "clfLog =  LogisticRegression(C=0.5)\n",
    "train(clfLog)"
   ]
  },
  {
   "cell_type": "markdown",
   "metadata": {},
   "source": [
    "# MultiNB"
   ]
  },
  {
   "cell_type": "code",
   "execution_count": 22,
   "metadata": {},
   "outputs": [
    {
     "name": "stdout",
     "output_type": "stream",
     "text": [
      "average accurracy_train :  0.8802231866088034\n",
      "average accurracy_test :  0.8297766749379653\n"
     ]
    }
   ],
   "source": [
    "from sklearn.naive_bayes import MultinomialNB#, BernoulliNB\n",
    "clfNB =  MultinomialNB()\n",
    "train(clfNB)"
   ]
  },
  {
   "cell_type": "markdown",
   "metadata": {},
   "source": [
    "# Perceptron"
   ]
  },
  {
   "cell_type": "code",
   "execution_count": 23,
   "metadata": {},
   "outputs": [
    {
     "name": "stdout",
     "output_type": "stream",
     "text": [
      "average accurracy_train :  0.9779293242405457\n",
      "average accurracy_test :  0.7950372208436725\n"
     ]
    }
   ],
   "source": [
    "from sklearn.linear_model import Perceptron\n",
    "clfP = Perceptron(tol=1e-3, random_state=0)\n",
    "train(clfP)"
   ]
  },
  {
   "cell_type": "markdown",
   "metadata": {},
   "source": [
    "# SVM"
   ]
  },
  {
   "cell_type": "code",
   "execution_count": 24,
   "metadata": {},
   "outputs": [
    {
     "name": "stdout",
     "output_type": "stream",
     "text": [
      "average accurracy_train :  1.0\n",
      "average accurracy_test :  0.7692307692307693\n"
     ]
    }
   ],
   "source": [
    "from sklearn.svm import SVC\n",
    "clfSVM = SVC(kernel = 'linear', C = 1e5)\n",
    "train(clfSVM)"
   ]
  },
  {
   "cell_type": "code",
   "execution_count": null,
   "metadata": {},
   "outputs": [],
   "source": []
  },
  {
   "cell_type": "code",
   "execution_count": null,
   "metadata": {},
   "outputs": [],
   "source": []
  }
 ],
 "metadata": {
  "kernelspec": {
   "display_name": "Python 3",
   "language": "python",
   "name": "python3"
  },
  "language_info": {
   "codemirror_mode": {
    "name": "ipython",
    "version": 3
   },
   "file_extension": ".py",
   "mimetype": "text/x-python",
   "name": "python",
   "nbconvert_exporter": "python",
   "pygments_lexer": "ipython3",
   "version": "3.7.1"
  }
 },
 "nbformat": 4,
 "nbformat_minor": 2
}
