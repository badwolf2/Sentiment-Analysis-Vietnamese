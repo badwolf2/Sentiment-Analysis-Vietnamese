{
 "cells": [
  {
   "cell_type": "code",
   "execution_count": 1,
   "metadata": {},
   "outputs": [],
   "source": [
    "from sklearn.utils import shuffle\n",
    "from pyvi import ViTokenizer #For split vietnamese words\n",
    "import pandas as pd #For reading xlsx file\n",
    "from gensim.parsing.preprocessing import strip_numeric,strip_short\n",
    "import re\n",
    "import numpy as np\n",
    "import string"
   ]
  },
  {
   "cell_type": "code",
   "execution_count": 2,
   "metadata": {},
   "outputs": [
    {
     "name": "stdout",
     "output_type": "stream",
     "text": [
      "2016\n",
      "['dùng hơn tháng , ko nhận_diện đc khuông mặt , 1 số ứng_dụng tự_động dừng , chơi game máy lang\\n', 'camera ok lắm . mấy thì giá này nói_gì nữa . ai xài thấy sao chứ mình thấy thích nha . nhất là giao_diện của máy . mình là sam fan mà . sam là thích hết\\n', 'mình sài 2 sim mobi cùng lúc , nhưng lúc người khác gọi được cho mình lúc không , đã đổi máy vẫn vậy cho đến khi chỉ dùng 1 sim thì mới hết\\n', 'mình mua máy cách đây 6 tháng giờ gọi video zalo nói người khác ko nghe đc , đã khôi_phục cài_đặt mà vẫn ko đc , có gì hỗ_trợ mình\\n', 'thất_vọng về chất_lượng máy . lướt web chậm , giật lag . cảm_ứng chậm , lag . nói chug tầm giá này có_thể mua đc máy tốt hơn\\n']\n",
      "[0, 1, 0, 0, 0]\n"
     ]
    }
   ],
   "source": [
    "document = []\n",
    "label = []\n",
    "def read_file(file1,file2):\n",
    "    with open(file1, 'r', encoding = 'utf-8') as f1:\n",
    "        for line in f1:\n",
    "            document.append(line)\n",
    "    with open(file2, 'r', encoding = 'utf-8') as f2:\n",
    "        for line in f2:\n",
    "            label.append(int(line))\n",
    "read_file('TxtData/datacomment.txt','TxtData/datalabel.txt')\n",
    "print(len(document))\n",
    "print(document[:5])\n",
    "print(label[:5])"
   ]
  },
  {
   "cell_type": "code",
   "execution_count": 3,
   "metadata": {},
   "outputs": [],
   "source": [
    "def raw_text_preprocess(raw):\n",
    "    raw = raw.lower()\n",
    "    raw = re.sub(r\"http\\S+\", \"URL_Change\", raw)\n",
    "    raw = re.sub(r\"https\\S+\", \"URL_Change\", raw)\n",
    "    raw = re.sub(r\"(www\\S+)|(\\S+@\\S+)\", \"URL_Change\", raw)\n",
    "    raw = re.sub(r\"([0-9][0-9]/[0-9][0-9]/[0-9][0-9][0-9][0-9])|([0-9][0-9]/[0-9][0-9])|([0-9][0-9]/[0-9][0-9][0-9][0-9])\", \"DATE_Change\", raw)\n",
    "    raw = re.sub(r\"([0-9][0-9]-[0-9][0-9]-[0-9][0-9][0-9][0-9])|([0-9][0-9]-[0-9][0-9])|([0-9][0-9]-[0-9][0-9][0-9][0-9])\", \"DATE_Change\", raw)\n",
    "    raw = re.sub(r\"(ngày [0-9][0-9] tháng [0-9][0-9] năm [0-9][0-9][0-9][0-9])|(ngày [0-9][0-9] tháng [0-9][0-9])|(tháng [0-9][0-9] năm [0-9][0-9][0-9][0-9])\", \"DATE_Change\", raw)\n",
    "\n",
    "    raw = strip_numeric(raw)\n",
    "    raw = ViTokenizer.tokenize(raw)\n",
    "    raw = strip_short(raw, minsize=2)\n",
    "    return raw"
   ]
  },
  {
   "cell_type": "code",
   "execution_count": 4,
   "metadata": {},
   "outputs": [],
   "source": [
    "document = [raw_text_preprocess(d) for d in document]"
   ]
  },
  {
   "cell_type": "code",
   "execution_count": 5,
   "metadata": {},
   "outputs": [],
   "source": [
    "def dict_word(document):\n",
    "    res = {}\n",
    "    words = {}\n",
    "    conten = 0\n",
    "    for doc in document:\n",
    "            token = doc.split(\" \")\n",
    "            for tok in token:\n",
    "                if tok in res.keys():\n",
    "                    res[tok] = res[tok] + 1\n",
    "                else:\n",
    "                    res.update({tok : 1})\n",
    "            for key, value in res.items():\n",
    "                if (value >= 3):\n",
    "                    words.update({key : value})\n",
    "    words = sorted(words.keys())\n",
    "    return words"
   ]
  },
  {
   "cell_type": "code",
   "execution_count": 6,
   "metadata": {},
   "outputs": [],
   "source": [
    "def read_data(document, label, words, fileName):\n",
    "    word_list = []\n",
    "    N = len(document)\n",
    "    for doc in document:\n",
    "        token = doc.split(\" \")\n",
    "        word = {}\n",
    "        for tok in token:\n",
    "            if tok in word.keys():\n",
    "                word[tok] = word[tok] + 1\n",
    "            else:\n",
    "                word.update({tok : 1})\n",
    "        word_list.append(word)\n",
    "    data = dat = np.zeros((N, len(words)), dtype = int)\n",
    "    j = 0\n",
    "    for word in word_list:\n",
    "        dat = []\n",
    "        for key in words:\n",
    "            if(key in word.keys()):\n",
    "                dat.append(word[key])\n",
    "            else:\n",
    "                dat.append(0)\n",
    "        data[j, :] = np.array(np.asarray(dat))\n",
    "        j = j + 1\n",
    "    with open(fileName, 'w') as f:\n",
    "        for i, l in enumerate(label):\n",
    "            f.write(str(l))\n",
    "            f.write(\" \")\n",
    "            for num in data[i, :]:\n",
    "                f.write(str(num))\n",
    "                f.write(\" \")\n",
    "            f.write('\\n')"
   ]
  },
  {
   "cell_type": "code",
   "execution_count": 7,
   "metadata": {},
   "outputs": [
    {
     "data": {
      "text/plain": [
       "'test12.txt'"
      ]
     },
     "execution_count": 7,
     "metadata": {},
     "output_type": "execute_result"
    }
   ],
   "source": [
    "'test{}.txt'.format(12)"
   ]
  },
  {
   "cell_type": "code",
   "execution_count": 8,
   "metadata": {},
   "outputs": [],
   "source": [
    "#Chia dữ liệu làm 5 đoạn, lấy đoạn thứ i để test và còn lại để train\n",
    "def divide_fold(i,document):\n",
    "    p=int(len(document)/5)\n",
    "    document = [raw_text_preprocess(d) for d in document]\n",
    "    document_test = document[(i-1)*p:i*p]\n",
    "    label_test = label[(i-1)*p:i*p]\n",
    "    document_train = document[:(i-1)*p+1]+document[i*p+1:]\n",
    "    label_train = label[:(i-1)*p+1]+label[i*p+1:]\n",
    "    return (document_test,label_test,document_train ,label_train)"
   ]
  },
  {
   "cell_type": "code",
   "execution_count": 9,
   "metadata": {},
   "outputs": [],
   "source": [
    "for i in range(1, 6):\n",
    "    document_test,label_test,document_train ,label_train = divide_fold(i,document)\n",
    "    words = dict_word(document_train)\n",
    "    read_data(document_train,label_train, words, 'TxtBinaryData/train{}.txt'.format(i))\n",
    "    read_data(document_test,label_test, words, 'TxtBinaryData/test{}.txt'.format(i))\n",
    "    #print(len(document_test),len(document_train))\n"
   ]
  },
  {
   "cell_type": "code",
   "execution_count": null,
   "metadata": {},
   "outputs": [],
   "source": []
  },
  {
   "cell_type": "code",
   "execution_count": null,
   "metadata": {},
   "outputs": [],
   "source": []
  },
  {
   "cell_type": "code",
   "execution_count": null,
   "metadata": {},
   "outputs": [],
   "source": []
  },
  {
   "cell_type": "code",
   "execution_count": null,
   "metadata": {},
   "outputs": [],
   "source": []
  },
  {
   "cell_type": "code",
   "execution_count": null,
   "metadata": {},
   "outputs": [],
   "source": [
    "##"
   ]
  },
  {
   "cell_type": "code",
   "execution_count": 64,
   "metadata": {},
   "outputs": [],
   "source": [
    "def divide_fold(document):\n",
    "    p=int(len(document))\n",
    "    document = [raw_text_preprocess(d) for d in document]\n",
    "    document_test = document[int(0.8*p):]\n",
    "    label_test = label[int(0.8*p):]\n",
    "    document_train = document[:int(0.8*p)]\n",
    "    label_train = label[:int(0.8*p)]\n",
    "    return (document_test,label_test,document_train ,label_train)"
   ]
  },
  {
   "cell_type": "code",
   "execution_count": 63,
   "metadata": {},
   "outputs": [],
   "source": [
    "document_test,label_test,document_train ,label_train = divide_fold(document)\n",
    "#print(len(document_test),len(document_train))\n",
    "words = dict_word(document_train)\n",
    "read_data(document_train,label_train, words, 'TxtBinaryData1/train.txt')\n",
    "read_data(document_test,label_test, words, 'TxtBinaryData1/test.txt')"
   ]
  },
  {
   "cell_type": "code",
   "execution_count": null,
   "metadata": {},
   "outputs": [],
   "source": []
  }
 ],
 "metadata": {
  "kernelspec": {
   "display_name": "Python 3",
   "language": "python",
   "name": "python3"
  },
  "language_info": {
   "codemirror_mode": {
    "name": "ipython",
    "version": 3
   },
   "file_extension": ".py",
   "mimetype": "text/x-python",
   "name": "python",
   "nbconvert_exporter": "python",
   "pygments_lexer": "ipython3",
   "version": "3.7.1"
  }
 },
 "nbformat": 4,
 "nbformat_minor": 2
}
