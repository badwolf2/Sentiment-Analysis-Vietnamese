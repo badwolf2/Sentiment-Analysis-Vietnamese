{
 "cells": [
  {
   "cell_type": "code",
   "execution_count": 4,
   "metadata": {},
   "outputs": [],
   "source": [
    "#Crawl \n",
    "import requests\n",
    "import re\n",
    "from bs4 import BeautifulSoup\n",
    "from newspaper import Article\n",
    "import urllib.request"
   ]
  },
  {
   "cell_type": "markdown",
   "metadata": {},
   "source": [
    "# Crawl HTML"
   ]
  },
  {
   "cell_type": "code",
   "execution_count": 2,
   "metadata": {},
   "outputs": [
    {
     "name": "stdout",
     "output_type": "stream",
     "text": [
      "20\n",
      "36\n",
      "56\n",
      "56\n"
     ]
    }
   ],
   "source": [
    "req = ['https://www.thegioididong.com/dtdd?p=tu-4-7-trieu',\n",
    "       'https://www.thegioididong.com/dtdd?p=tu-7-13-trieu',\n",
    "       'https://www.thegioididong.com/dtdd?p=tren-13-trieu',\n",
    "]\n",
    "def crawlPhoneLinks(req):\n",
    "    phoneLinks = set()\n",
    "    for r in req:\n",
    "        r1 = requests.get(r)\n",
    "        coverpage = r1.content\n",
    "        soup1 = BeautifulSoup(coverpage, 'html.parser')\n",
    "        for a in soup1.find_all('a', href=True):\n",
    "            if re.search('/dtdd/.*', a['href']):\n",
    "                if a.find_all('div', class_='ratingresult'):\n",
    "                    phoneLinks.add(a['href'])\n",
    "        print(len(phoneLinks))\n",
    "    return phoneLinks\n",
    "phoneLinks = crawlPhoneLinks(req)\n",
    "\n",
    "def crawlRevLink(phoneLinks):\n",
    "    reviewLinks=set()\n",
    "    for link in phoneLinks:\n",
    "        if link.count('https://www.thegioididong.com')==0:\n",
    "            link = 'https://www.thegioididong.com'+link\n",
    "        link = link +'/danh-gia?p='\n",
    "        reviewLinks.add(link)\n",
    "        #print(link)\n",
    "    print(len(reviewLinks))\n",
    "    return reviewLinks\n",
    "reviewLinks = crawlRevLink(phoneLinks)\n",
    "\n",
    "def crawlRev(reviewLinks):\n",
    "    reviews = []\n",
    "    for link in reviewLinks:\n",
    "        i = 1\n",
    "        while True:\n",
    "            link = link+str(i)\n",
    "            try:\n",
    "                page = urllib.request.urlopen(link)\n",
    "                soup = BeautifulSoup(page, 'html.parser')\n",
    "                new_feeds = soup.find(\n",
    "                    'ul', class_='ratingLst').find_all('li')\n",
    "\n",
    "                article = Article(link)\n",
    "                article.download()\n",
    "                article.parse()\n",
    "                soup = BeautifulSoup(article.html, 'html.parser')\n",
    "                html = soup.findAll(\"div\", {\"class\": \"rc\"})\n",
    "                reviews = reviews + html\n",
    "\n",
    "            except:\n",
    "                break;\n",
    "            i = i+1\n",
    "    #print(len(reviews))\n",
    "    return reviews\n",
    "reviews = crawlRev(reviewLinks)"
   ]
  },
  {
   "cell_type": "code",
   "execution_count": null,
   "metadata": {},
   "outputs": [],
   "source": []
  },
  {
   "cell_type": "code",
   "execution_count": 18,
   "metadata": {},
   "outputs": [
    {
     "name": "stdout",
     "output_type": "stream",
     "text": [
      "2016\n"
     ]
    }
   ],
   "source": [
    "comments = []\n",
    "stars = []\n",
    "labels = []\n",
    "for li in reviews:\n",
    "        rev = str(li).split('\\n')\n",
    "        if len(rev)>9:\n",
    "            comment = rev[9].replace('<i>','').replace('</i>','')\n",
    "            if comments.count(comment)==0:\n",
    "                comments.append(comment)\n",
    "                star = str(li).count('txtstar')\n",
    "                stars.append(star)\n",
    "                if star>3:\n",
    "                    labels.append(1)\n",
    "                else: \n",
    "                    labels.append(0)\n",
    "print(len(comments))"
   ]
  },
  {
   "cell_type": "code",
   "execution_count": 19,
   "metadata": {},
   "outputs": [],
   "source": [
    "# process \n",
    "import re\n",
    "import pyvi\n",
    "from pyvi import ViTokenizer #For split vietnamese words"
   ]
  },
  {
   "cell_type": "code",
   "execution_count": 20,
   "metadata": {},
   "outputs": [],
   "source": [
    "# ================== process raw data ===========\n",
    "\n",
    "REPLACE_NO_SPACE = re.compile(\"[.;:\\',\\\"()\\[\\]][.;:!\\'?,\\\"()\\[\\]]\")\n",
    "REPLACE_WITH_SPACE = re.compile(\"(<br\\s*/><br\\s*/>)|(\\-)|(\\/)\")\n",
    "def preprocess_reviews(reviews):\n",
    "    reviews = [REPLACE_NO_SPACE.sub(\"\", line.lower()) for line in reviews]\n",
    "    reviews = [REPLACE_WITH_SPACE.sub(\" \", line) for line in reviews]\n",
    "    reviews = [line.lstrip() for line in reviews]\n",
    "    reviews = [ViTokenizer.tokenize(rev) for rev in reviews]\n",
    "    return reviews\n",
    "comments_clean = preprocess_reviews(comments)"
   ]
  },
  {
   "cell_type": "code",
   "execution_count": 21,
   "metadata": {},
   "outputs": [],
   "source": [
    "with open('TxtData/dataComment.txt','w',encoding=\"utf8\") as f:\n",
    "    f.write('\\n'.join(comments_clean))\n",
    "    f.close()\n",
    "with open('TxtData/dataLabel.txt','w',encoding=\"utf8\") as f:\n",
    "    f.write(str(labels[0]))\n",
    "    for l in labels[1:len(labels)]:\n",
    "        f.write('\\n'+str(l))\n",
    "    f.close()"
   ]
  },
  {
   "cell_type": "code",
   "execution_count": 22,
   "metadata": {},
   "outputs": [
    {
     "name": "stdout",
     "output_type": "stream",
     "text": [
      "737\n"
     ]
    }
   ],
   "source": [
    "#======================\n",
    "zipped_pairs = zip(labels,comments_clean ) \n",
    "comments_clean = [x for _, x in sorted(zipped_pairs)] \n",
    "labels = sorted(labels)\n",
    "\n",
    "an_iterator = filter(lambda number: number ==0, labels)\n",
    "numNeg = len(list(an_iterator))\n",
    "print(numNeg)\n",
    "\n",
    "with open('TxtData/data.txt','w',encoding=\"utf8\") as f:\n",
    "    f.write(str(numNeg))\n",
    "    f.write('\\n'.join(comments_clean))\n",
    "    f.close()"
   ]
  },
  {
   "cell_type": "code",
   "execution_count": null,
   "metadata": {},
   "outputs": [],
   "source": []
  },
  {
   "cell_type": "code",
   "execution_count": null,
   "metadata": {},
   "outputs": [],
   "source": []
  },
  {
   "cell_type": "code",
   "execution_count": null,
   "metadata": {},
   "outputs": [],
   "source": []
  }
 ],
 "metadata": {
  "kernelspec": {
   "display_name": "Python 3",
   "language": "python",
   "name": "python3"
  },
  "language_info": {
   "codemirror_mode": {
    "name": "ipython",
    "version": 3
   },
   "file_extension": ".py",
   "mimetype": "text/x-python",
   "name": "python",
   "nbconvert_exporter": "python",
   "pygments_lexer": "ipython3",
   "version": "3.7.1"
  }
 },
 "nbformat": 4,
 "nbformat_minor": 2
}
