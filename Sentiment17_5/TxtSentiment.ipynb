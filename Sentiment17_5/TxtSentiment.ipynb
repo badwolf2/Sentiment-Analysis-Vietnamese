{
 "cells": [
  {
   "cell_type": "code",
   "execution_count": 1,
   "metadata": {},
   "outputs": [],
   "source": [
    "from sklearn.feature_extraction.text import CountVectorizer\n",
    "\n",
    "from sklearn.metrics import accuracy_score\n",
    "from sklearn.model_selection import train_test_split\n",
    "\n",
    "from sklearn.linear_model import LogisticRegression\n",
    "from sklearn.svm import SVC\n",
    "from sklearn.naive_bayes import MultinomialNB, BernoulliNB\n",
    "from sklearn.linear_model import Perceptron"
   ]
  },
  {
   "cell_type": "code",
   "execution_count": 2,
   "metadata": {},
   "outputs": [],
   "source": [
    "comments = []\n",
    "with open('TxtData/datacomment.txt','r', encoding = 'utf8') as f:\n",
    "    comments = f.read().split('\\n');"
   ]
  },
  {
   "cell_type": "code",
   "execution_count": 3,
   "metadata": {},
   "outputs": [],
   "source": [
    "labels = []\n",
    "with open('TxtData/datalabel.txt','r', encoding = 'utf8') as f:\n",
    "    labels = f.read().split('\\n');"
   ]
  },
  {
   "cell_type": "code",
   "execution_count": 4,
   "metadata": {},
   "outputs": [
    {
     "data": {
      "text/plain": [
       "['dùng hơn tháng , ko nhận_diện đc khuông mặt , 1 số ứng_dụng tự_động dừng , chơi game máy lang',\n",
       " 'camera ok lắm . mấy thì giá này nói_gì nữa . ai xài thấy sao chứ mình thấy thích nha . nhất là giao_diện của máy . mình là sam fan mà . sam là thích hết',\n",
       " 'mình sài 2 sim mobi cùng lúc , nhưng lúc người khác gọi được cho mình lúc không , đã đổi máy vẫn vậy cho đến khi chỉ dùng 1 sim thì mới hết',\n",
       " 'mình mua máy cách đây 6 tháng giờ gọi video zalo nói người khác ko nghe đc , đã khôi_phục cài_đặt mà vẫn ko đc , có gì hỗ_trợ mình',\n",
       " 'thất_vọng về chất_lượng máy . lướt web chậm , giật lag . cảm_ứng chậm , lag . nói chug tầm giá này có_thể mua đc máy tốt hơn']"
      ]
     },
     "execution_count": 4,
     "metadata": {},
     "output_type": "execute_result"
    }
   ],
   "source": [
    "comments[:5]"
   ]
  },
  {
   "cell_type": "code",
   "execution_count": 5,
   "metadata": {},
   "outputs": [],
   "source": [
    "# ================== process raw data ===========\n",
    "import re\n",
    "import pyvi\n",
    "from pyvi import ViTokenizer \n",
    "\n",
    "REPLACE_NO_SPACE = re.compile(\"[.;:\\',\\\"()\\[\\]][.;:!\\'?,\\\"()\\[\\]]\")\n",
    "REPLACE_WITH_SPACE = re.compile(\"(<br\\s*/><br\\s*/>)|(\\-)|(\\/)\")\n",
    "def preprocess_reviews(reviews):\n",
    "    reviews = [REPLACE_NO_SPACE.sub(\"\", line.lower()) for line in reviews]\n",
    "    reviews = [REPLACE_WITH_SPACE.sub(\" \", line) for line in reviews]\n",
    "    reviews = [line.lstrip() for line in reviews]\n",
    "    reviews = [ViTokenizer.tokenize(rev) for rev in reviews]\n",
    "    return reviews\n",
    "comments = preprocess_reviews(comments)"
   ]
  },
  {
   "cell_type": "code",
   "execution_count": 6,
   "metadata": {},
   "outputs": [
    {
     "data": {
      "text/plain": [
       "['dùng hơn tháng , ko nhận_diện đc khuông mặt , 1 số ứng_dụng tự_động dừng , chơi game máy lang',\n",
       " 'camera ok lắm . mấy thì giá này nói_gì nữa . ai xài thấy sao chứ mình thấy thích nha . nhất là giao_diện của máy . mình là sam fan mà . sam là thích hết',\n",
       " 'mình sài 2 sim mobi cùng lúc , nhưng lúc người khác gọi được cho mình lúc không , đã đổi máy vẫn vậy cho đến khi chỉ dùng 1 sim thì mới hết',\n",
       " 'mình mua máy cách đây 6 tháng giờ gọi video zalo nói người khác ko nghe đc , đã khôi_phục cài_đặt mà vẫn ko đc , có gì hỗ_trợ mình',\n",
       " 'thất_vọng về chất_lượng máy . lướt web chậm , giật lag . cảm_ứng chậm , lag . nói chug tầm giá này có_thể mua đc máy tốt hơn']"
      ]
     },
     "execution_count": 6,
     "metadata": {},
     "output_type": "execute_result"
    }
   ],
   "source": [
    "comments[:5]"
   ]
  },
  {
   "cell_type": "code",
   "execution_count": 7,
   "metadata": {},
   "outputs": [],
   "source": [
    "cv = CountVectorizer(binary=True)\n",
    "cv.fit(comments)\n",
    "commentsVec = cv.transform(comments)"
   ]
  },
  {
   "cell_type": "code",
   "execution_count": 8,
   "metadata": {},
   "outputs": [
    {
     "name": "stderr",
     "output_type": "stream",
     "text": [
      "C:\\Users\\Thuy\\Anaconda3\\lib\\site-packages\\sklearn\\model_selection\\_split.py:2179: FutureWarning: From version 0.21, test_size will always complement train_size unless both are specified.\n",
      "  FutureWarning)\n"
     ]
    }
   ],
   "source": [
    "X_train, X_test, y_train, y_test = train_test_split(\n",
    "    commentsVec, labels, train_size = 0.8\n",
    ")"
   ]
  },
  {
   "cell_type": "code",
   "execution_count": 9,
   "metadata": {},
   "outputs": [],
   "source": [
    "def SVM():\n",
    "    clf = SVC(kernel = 'linear', C = 1e5) # just a big number \n",
    "    clf.fit(X_train.toarray(), y_train) \n",
    "    w = clf.coef_\n",
    "    b = clf.intercept_\n",
    "    #print('w = ', w)\n",
    "    #print('b = ', b)\n",
    "    print (\"Final Accuracy SVM: %s\"% accuracy_score(y_test, clf.predict(X_test.toarray())))"
   ]
  },
  {
   "cell_type": "code",
   "execution_count": 10,
   "metadata": {},
   "outputs": [],
   "source": [
    "def multiNB():\n",
    "    clf = MultinomialNB()\n",
    "    clf.fit(X_train, y_train)\n",
    "\n",
    "    y_pred_train = clf.predict(X_train)\n",
    "    y_pred_test = clf.predict(X_test)\n",
    "\n",
    "    acc_test = accuracy_score(y_pred_test,y_test)\n",
    "    acc_train = accuracy_score(y_pred_train,y_train)\n",
    "    #print('accuracy_train: ', acc_train)\n",
    "    print('Final Accuracy multi Naive Bayes: ', acc_test)"
   ]
  },
  {
   "cell_type": "code",
   "execution_count": 11,
   "metadata": {},
   "outputs": [],
   "source": [
    "def perceptron():\n",
    "    clf = Perceptron(tol=1e-3, random_state=0)\n",
    "    clf.fit(X_train, y_train)\n",
    "    acc_train=clf.score(X_train, y_train)\n",
    "    acc_test =clf.score(X_test, y_test)\n",
    "    #print('accurracy_train of folder {}: ', acc_train)\n",
    "    print('Final Accuracy perceptron: ', acc_test)"
   ]
  },
  {
   "cell_type": "code",
   "execution_count": 12,
   "metadata": {},
   "outputs": [],
   "source": [
    "X_trainlog, X_testlog, y_trainlog, y_testlog = train_test_split(\n",
    "    X_train, y_train, train_size = 0.75\n",
    ")\n",
    "def logistic():\n",
    "    cmax=0.5\n",
    "    accmax=0\n",
    "    for c in [0.01, 0.05, 0.25, 0.5, 1]:\n",
    "        lr = LogisticRegression(C=c)\n",
    "        lr.fit(X_trainlog, y_trainlog)\n",
    "        acc = accuracy_score(y_testlog, lr.predict(X_testlog))\n",
    "        if(acc>accmax):\n",
    "            accmax=acc\n",
    "            cmax=c\n",
    "    final_model = LogisticRegression(C=cmax)\n",
    "    final_model.fit(X_train, y_train)\n",
    "    print (\"Final Accuracy logistic: %s\"% accuracy_score(y_test, final_model.predict(X_test)))"
   ]
  },
  {
   "cell_type": "code",
   "execution_count": 13,
   "metadata": {},
   "outputs": [
    {
     "name": "stdout",
     "output_type": "stream",
     "text": [
      "Final Accuracy multi Naive Bayes:  0.8193069306930693\n"
     ]
    },
    {
     "name": "stderr",
     "output_type": "stream",
     "text": [
      "C:\\Users\\Thuy\\Anaconda3\\lib\\site-packages\\sklearn\\linear_model\\logistic.py:433: FutureWarning: Default solver will be changed to 'lbfgs' in 0.22. Specify a solver to silence this warning.\n",
      "  FutureWarning)\n"
     ]
    },
    {
     "name": "stdout",
     "output_type": "stream",
     "text": [
      "Final Accuracy logistic: 0.8242574257425742\n",
      "Final Accuracy perceptron:  0.754950495049505\n",
      "Final Accuracy SVM: 0.7202970297029703\n"
     ]
    }
   ],
   "source": [
    "multiNB()\n",
    "logistic()\n",
    "perceptron()\n",
    "SVM()"
   ]
  },
  {
   "cell_type": "code",
   "execution_count": null,
   "metadata": {},
   "outputs": [],
   "source": []
  },
  {
   "cell_type": "code",
   "execution_count": null,
   "metadata": {},
   "outputs": [],
   "source": []
  },
  {
   "cell_type": "code",
   "execution_count": 105,
   "metadata": {},
   "outputs": [
    {
     "name": "stdout",
     "output_type": "stream",
     "text": [
      "Final Accuracy multi Naive Bayes:  0.8649350649350649\n"
     ]
    },
    {
     "name": "stderr",
     "output_type": "stream",
     "text": [
      "C:\\Users\\Thuy\\Anaconda3\\lib\\site-packages\\sklearn\\linear_model\\logistic.py:433: FutureWarning: Default solver will be changed to 'lbfgs' in 0.22. Specify a solver to silence this warning.\n",
      "  FutureWarning)\n"
     ]
    },
    {
     "name": "stdout",
     "output_type": "stream",
     "text": [
      "Final Accuracy logistic: 0.8363636363636363\n",
      "Final Accuracy perceptron:  0.8025974025974026\n",
      "Final Accuracy SVM: 0.7714285714285715\n"
     ]
    }
   ],
   "source": [
    "#raw noi tu ghep l2\n",
    "multiNB()\n",
    "logistic()\n",
    "perceptron()\n",
    "SVM()"
   ]
  }
 ],
 "metadata": {
  "kernelspec": {
   "display_name": "Python 3",
   "language": "python",
   "name": "python3"
  },
  "language_info": {
   "codemirror_mode": {
    "name": "ipython",
    "version": 3
   },
   "file_extension": ".py",
   "mimetype": "text/x-python",
   "name": "python",
   "nbconvert_exporter": "python",
   "pygments_lexer": "ipython3",
   "version": "3.7.1"
  }
 },
 "nbformat": 4,
 "nbformat_minor": 2
}
